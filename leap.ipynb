{
 "cells": [
  {
   "cell_type": "code",
   "execution_count": 1,
   "metadata": {},
   "outputs": [],
   "source": [
    "n=input(\"ENTER A YEAR:\")\n",
    "try:\n",
    "    n=int(n)\n",
    "except:\n",
    "    print('please enter a year')\n",
    "    exit()\n",
    "if (n%4==0)and(n%100!=0 or n%400==0):\n",
    "    print(f'Year is leap year: {n}')\n",
    "else:\n",
    "     print(f'Year is not a leap year: {n}')"
   ]
  },
  {
   "cell_type": "code",
   "execution_count": null,
   "metadata": {},
   "outputs": [],
   "source": []
  }
 ],
 "metadata": {
  "kernelspec": {
   "display_name": "Python 3",
   "language": "python",
   "name": "python3"
  },
  "language_info": {
   "codemirror_mode": {
    "name": "ipython",
    "version": 3
   },
   "file_extension": ".py",
   "mimetype": "text/x-python",
   "name": "python",
   "nbconvert_exporter": "python",
   "pygments_lexer": "ipython3",
   "version": "3.9.13"
  },
  "orig_nbformat": 4
 },
 "nbformat": 4,
 "nbformat_minor": 2
}
